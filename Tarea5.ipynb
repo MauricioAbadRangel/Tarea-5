{
  "nbformat": 4,
  "nbformat_minor": 0,
  "metadata": {
    "colab": {
      "name": "Untitled1.ipynb",
      "provenance": [],
      "authorship_tag": "ABX9TyOOb8QxEEMS1endyGMeok0X",
      "include_colab_link": true
    },
    "kernelspec": {
      "name": "python3",
      "display_name": "Python 3"
    },
    "language_info": {
      "name": "python"
    }
  },
  "cells": [
    {
      "cell_type": "markdown",
      "metadata": {
        "id": "view-in-github",
        "colab_type": "text"
      },
      "source": [
        "<a href=\"https://colab.research.google.com/github/MauricioAbadRangel/Tarea-5/blob/main/Tarea5.ipynb\" target=\"_parent\"><img src=\"https://colab.research.google.com/assets/colab-badge.svg\" alt=\"Open In Colab\"/></a>"
      ]
    },
    {
      "cell_type": "code",
      "metadata": {
        "colab": {
          "base_uri": "https://localhost:8080/"
        },
        "id": "9pTdO3g6PVGT",
        "outputId": "900078dd-eb60-434c-f822-561321ec6e80"
      },
      "source": [
        "n1 = float(input(\"Primer Numero \"))#1\n",
        "n2 = float(input(\"Segundo Numero \"))\n",
        "if n1 > n2:\n",
        "    print(\"El primer numero es mayor\")\n",
        "if n2 > n1:\n",
        "    print(\"El segundo numero es mayor\")\n",
        "if n1 == n2:\n",
        "    print(\"Los dos numeros son iguales\")"
      ],
      "execution_count": 11,
      "outputs": [
        {
          "output_type": "stream",
          "name": "stdout",
          "text": [
            "Primer Numero 6\n",
            "Segundo Numero 5\n",
            "El primer numero es mayor\n"
          ]
        }
      ]
    },
    {
      "cell_type": "code",
      "metadata": {
        "colab": {
          "base_uri": "https://localhost:8080/"
        },
        "id": "vfjWhIHTRzEw",
        "outputId": "e0e5ff1a-79dc-4a95-b17e-3684744f5343"
      },
      "source": [
        "n1 = float(input(\"Primer Numero \"))#2\n",
        "n2 = float(input(\"Segundo Numero \"))\n",
        "n3 = float(input(\"Tercer Numero \"))\n",
        "if n1 < n2 > n3:\n",
        "    print(\"El numero dos es el mayor \")\n",
        "elif n2< n1 >n3:\n",
        "    print(\"El numero mayor es el numero 1\")\n",
        "elif n1 < n3 > n2:\n",
        "    print(\"El numero 3 es el mayor \")\n",
        "elif n1 == n2 == n3:\n",
        "    print(\"Los numeros son iguales\")"
      ],
      "execution_count": 20,
      "outputs": [
        {
          "output_type": "stream",
          "name": "stdout",
          "text": [
            "Primer Numero 1\n",
            "Segundo Numero 1\n",
            "Tercer Numero 1\n",
            "Los numeros son iguales\n"
          ]
        }
      ]
    },
    {
      "cell_type": "code",
      "metadata": {
        "colab": {
          "base_uri": "https://localhost:8080/"
        },
        "id": "BEm1zF4AUDNG",
        "outputId": "27dee10f-ae48-458f-92be-b3c060fdb8a1"
      },
      "source": [
        "n1 = float(input(\"Primer Numero \"))#3\n",
        "n2 = float(input(\"Segundo Numero \"))\n",
        "n3 = float(input(\"Tercer Numero \"))\n",
        "if n1 < n2 and n1 < n3:\n",
        "    print(\"El numero menor es el 1\")\n",
        "elif n2 < n1 and n2 < n3:\n",
        "    print(\"El numero menor es el 2\")\n",
        "elif n3 < n1 and n3 < n2:\n",
        "    print(\"El numero menor es el 3\")"
      ],
      "execution_count": 47,
      "outputs": [
        {
          "output_type": "stream",
          "name": "stdout",
          "text": [
            "Primer Numero 46\n",
            "Segundo Numero 365\n",
            "Tercer Numero 5636\n",
            "El numero menor es el 1\n"
          ]
        }
      ]
    },
    {
      "cell_type": "code",
      "metadata": {
        "colab": {
          "base_uri": "https://localhost:8080/"
        },
        "id": "VoBcbAWbiQQq",
        "outputId": "396086d7-73cb-4162-e1b0-460127b5e875"
      },
      "source": [
        "n1 = float(input(\"Primer Numero \"))#4\n",
        "n2 = float(input(\"Segundo Numero \"))\n",
        "n3 = float(input(\"Tercer Numero \"))\n",
        "n4 = float(input(\"Cuarto Numero \"))\n",
        "if n1 < n2 > n3 and n2 > n4:\n",
        "    print(\"El numero dos es el mayor \")\n",
        "elif n2< n1 >n3 and n1 > n4:\n",
        "    print(\"El numero mayor es el numero 1\")\n",
        "elif n1 < n3 > n2 and  n3 > n4:\n",
        "    print(\"El numero 3 es el mayor \")\n",
        "elif n1 < n4 > n2 and n4 > n3:\n",
        "    print(\"El mayor es el numero 4\")\n",
        "if n1 < n2 and n1 < n3 and n1 < n4:\n",
        "    print(\"El numero menor es el 1\")\n",
        "elif n2 < n1 and n2 < n3 and n2 < n4:\n",
        "    print(\"El numero menor es el 2\")\n",
        "elif n3 < n1 and n3 < n2 and n3 < n4:\n",
        "    print(\"El numero menor es el 3\")\n",
        "elif n4 < n1 and n4 < n2 and n4 < n3:\n",
        "    print(\"El numero menor es el 4\")"
      ],
      "execution_count": 59,
      "outputs": [
        {
          "output_type": "stream",
          "name": "stdout",
          "text": [
            "Primer Numero 4\n",
            "Segundo Numero 8\n",
            "Tercer Numero 3\n",
            "Cuarto Numero 2\n",
            "El numero dos es el mayor \n",
            "El numero menor es el 4\n"
          ]
        }
      ]
    }
  ]
}